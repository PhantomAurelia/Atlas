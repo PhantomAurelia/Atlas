{
 "cells": [
  {
   "cell_type": "code",
   "execution_count": 1,
   "metadata": {
    "button": false,
    "new_sheet": false,
    "run_control": {
     "read_only": false
    }
   },
   "outputs": [
    {
     "name": "stderr",
     "output_type": "stream",
     "text": [
      "Loading required package: rJava\n",
      "\n"
     ]
    },
    {
     "name": "stderr",
     "output_type": "stream",
     "text": [
      "Loading required package: loadeR.java\n",
      "\n"
     ]
    },
    {
     "name": "stderr",
     "output_type": "stream",
     "text": [
      "Java version 11x amd64 by Azul Systems, Inc. detected\n",
      "\n"
     ]
    },
    {
     "name": "stderr",
     "output_type": "stream",
     "text": [
      "NetCDF Java Library v4.6.0-SNAPSHOT (23 Apr 2015) loaded and ready\n",
      "\n"
     ]
    },
    {
     "name": "stderr",
     "output_type": "stream",
     "text": [
      "Loading required package: climate4R.UDG\n",
      "\n"
     ]
    },
    {
     "name": "stderr",
     "output_type": "stream",
     "text": [
      "climate4R.UDG version 0.2.3 (2021-07-05) is loaded\n",
      "\n"
     ]
    },
    {
     "name": "stderr",
     "output_type": "stream",
     "text": [
      "WARNING: Your current version of climate4R.UDG (v0.2.3) is not up-to-date\n",
      "\n"
     ]
    },
    {
     "name": "stderr",
     "output_type": "stream",
     "text": [
      "Get the latest stable version (0.2.4) using <devtools::install_github('SantanderMetGroup/climate4R.UDG')>\n",
      "\n"
     ]
    },
    {
     "name": "stderr",
     "output_type": "stream",
     "text": [
      "Please use 'citation(\"climate4R.UDG\")' to cite this package.\n",
      "\n"
     ]
    },
    {
     "name": "stderr",
     "output_type": "stream",
     "text": [
      "loadeR version 1.7.1 (2021-07-05) is loaded\n",
      "\n"
     ]
    },
    {
     "name": "stderr",
     "output_type": "stream",
     "text": [
      "Please use 'citation(\"loadeR\")' to cite this package.\n",
      "\n"
     ]
    },
    {
     "name": "stdout",
     "output_type": "stream",
     "text": [
      "\n",
      "    _______   ____  ___________________  __  ________ \n",
      "   / ___/ /  / /  |/  / __  /_  __/ __/ / / / / __  / \n",
      "  / /  / /  / / /|_/ / /_/ / / / / __/ / /_/ / /_/_/  \n",
      " / /__/ /__/ / /  / / __  / / / / /__ /___  / / \\ \\ \n",
      " \\___/____/_/_/  /_/_/ /_/ /_/  \\___/    /_/\\/   \\_\\ \n",
      " \n",
      "      github.com/SantanderMetGroup/climate4R\n",
      "\n"
     ]
    },
    {
     "name": "stderr",
     "output_type": "stream",
     "text": [
      "transformeR version 2.1.3 (2021-08-04) is loaded\n",
      "\n"
     ]
    },
    {
     "name": "stderr",
     "output_type": "stream",
     "text": [
      "WARNING: Your current version of transformeR (v2.1.3) is not up-to-date\n",
      "\n"
     ]
    },
    {
     "name": "stderr",
     "output_type": "stream",
     "text": [
      "Get the latest stable version (2.1.4) using <devtools::install_github('SantanderMetGroup/transformeR')>\n",
      "\n"
     ]
    },
    {
     "name": "stderr",
     "output_type": "stream",
     "text": [
      "Please see 'citation(\"transformeR\")' to cite this package.\n",
      "\n"
     ]
    },
    {
     "name": "stderr",
     "output_type": "stream",
     "text": [
      "downscaleR version 3.3.3 (2021-07-05) is loaded\n",
      "\n"
     ]
    },
    {
     "name": "stderr",
     "output_type": "stream",
     "text": [
      "Please use 'citation(\"downscaleR\")' to cite this package.\n",
      "\n"
     ]
    },
    {
     "name": "stderr",
     "output_type": "stream",
     "text": [
      "climate4R.indices version 0.2.0 (2021-07-08) is loaded\n",
      "\n"
     ]
    },
    {
     "name": "stderr",
     "output_type": "stream",
     "text": [
      "Use 'indexShow()' for an overview of the available climate indices and circIndexShow() for the circulation indices.\n",
      "\n"
     ]
    },
    {
     "name": "stderr",
     "output_type": "stream",
     "text": [
      "NOTE: use package climate4R.climdex to calculate ETCCDI indices.\n",
      "\n"
     ]
    },
    {
     "name": "stderr",
     "output_type": "stream",
     "text": [
      "\n",
      "Attaching package: ‘climate4R.indices’\n",
      "\n",
      "\n"
     ]
    },
    {
     "name": "stderr",
     "output_type": "stream",
     "text": [
      "The following object is masked from ‘package:transformeR’:\n",
      "\n",
      "    lambWT\n",
      "\n",
      "\n"
     ]
    },
    {
     "name": "stderr",
     "output_type": "stream",
     "text": [
      "visualizeR version 1.6.1 (2021-03-11) is loaded\n",
      "\n"
     ]
    },
    {
     "name": "stderr",
     "output_type": "stream",
     "text": [
      "Please see 'citation(\"visualizeR\")' to cite this package.\n",
      "\n"
     ]
    },
    {
     "name": "stderr",
     "output_type": "stream",
     "text": [
      "Loading required package: sp\n",
      "\n"
     ]
    },
    {
     "name": "stderr",
     "output_type": "stream",
     "text": [
      "rgdal: version: 1.5-16, (SVN revision 1050)\n",
      "Geospatial Data Abstraction Library extensions to R successfully loaded\n",
      "Loaded GDAL runtime: GDAL 3.2.1, released 2020/12/29\n",
      "Path to GDAL shared files: /home/phanaur/mambaforge/envs/tfg/share/gdal\n",
      "GDAL binary built with GEOS: TRUE \n",
      "Loaded PROJ runtime: Rel. 7.2.0, November 1st, 2020, [PJ_VERSION: 720]\n",
      "Path to PROJ shared files: /home/phanaur/mambaforge/envs/tfg/share/proj\n",
      "PROJ CDN enabled: TRUE\n",
      "Linking to sp version:1.4-5\n",
      "To mute warnings of possible GDAL/OSR exportToProj4() degradation,\n",
      "use options(\"rgdal_show_exportToProj4_warnings\"=\"none\") before loading rgdal.\n",
      "\n"
     ]
    }
   ],
   "source": [
    "library(loadeR) \n",
    "library(climate4R.UDG) \n",
    "library(transformeR)\n",
    "library(downscaleR)\n",
    "library(climate4R.indices)\n",
    "library(visualizeR)\n",
    "library(rgdal)"
   ]
  },
  {
   "cell_type": "code",
   "execution_count": 2,
   "metadata": {
    "button": false,
    "new_sheet": false,
    "run_control": {
     "read_only": false
    }
   },
   "outputs": [],
   "source": [
    "lons <- c(-9.25, 3.5)  # Iberian Peninsula\n",
    "lats <- c(36, 44)   # Iberian Peninsula\n",
    "\n",
    "season <- 6:8  # June-July-August\n",
    "years.hist <- 1986:2005\n",
    "years.rcp <- 2041:2060\n",
    "\n",
    "dataset.obs <- \"W5E5\" \n",
    "dataset.hist <- \"CMIP5_EC-EARTH_r12i1p1_historical\"\n",
    "dataset.rcp <- \"CMIP5_EC-EARTH_r12i1p1_rcp85\""
   ]
  },
  {
   "cell_type": "code",
   "execution_count": 3,
   "metadata": {},
   "outputs": [
    {
     "name": "stderr",
     "output_type": "stream",
     "text": [
      "[2023-01-18 08:49:41] Defining geo-location parameters\n",
      "\n"
     ]
    },
    {
     "name": "stderr",
     "output_type": "stream",
     "text": [
      "[2023-01-18 08:49:41] Defining time selection parameters\n",
      "\n"
     ]
    },
    {
     "name": "stderr",
     "output_type": "stream",
     "text": [
      "[2023-01-18 08:49:42] Retrieving data subset ...\n",
      "\n"
     ]
    },
    {
     "name": "stderr",
     "output_type": "stream",
     "text": [
      "[2023-01-18 08:49:42] Done\n",
      "\n"
     ]
    },
    {
     "name": "stderr",
     "output_type": "stream",
     "text": [
      "[2023-01-18 08:49:46] Defining geo-location parameters\n",
      "\n"
     ]
    },
    {
     "name": "stderr",
     "output_type": "stream",
     "text": [
      "[2023-01-18 08:49:46] Defining time selection parameters\n",
      "\n"
     ]
    },
    {
     "name": "stderr",
     "output_type": "stream",
     "text": [
      "[2023-01-18 08:49:46] Retrieving data subset ...\n",
      "\n"
     ]
    },
    {
     "name": "stderr",
     "output_type": "stream",
     "text": [
      "[2023-01-18 08:49:46] Done\n",
      "\n"
     ]
    },
    {
     "name": "stderr",
     "output_type": "stream",
     "text": [
      "[2023-01-18 08:49:50] Defining geo-location parameters\n",
      "\n"
     ]
    },
    {
     "name": "stderr",
     "output_type": "stream",
     "text": [
      "[2023-01-18 08:49:50] Defining time selection parameters\n",
      "\n"
     ]
    },
    {
     "name": "stderr",
     "output_type": "stream",
     "text": [
      "[2023-01-18 08:49:50] Retrieving data subset ...\n",
      "\n"
     ]
    },
    {
     "name": "stderr",
     "output_type": "stream",
     "text": [
      "[2023-01-18 08:49:50] Done\n",
      "\n"
     ]
    },
    {
     "name": "stderr",
     "output_type": "stream",
     "text": [
      "[2023-01-18 08:49:54] Defining geo-location parameters\n",
      "\n"
     ]
    },
    {
     "name": "stderr",
     "output_type": "stream",
     "text": [
      "[2023-01-18 08:49:54] Defining time selection parameters\n",
      "\n"
     ]
    },
    {
     "name": "stderr",
     "output_type": "stream",
     "text": [
      "[2023-01-18 08:49:54] Retrieving data subset ...\n",
      "\n"
     ]
    },
    {
     "name": "stderr",
     "output_type": "stream",
     "text": [
      "[2023-01-18 08:49:55] Done\n",
      "\n"
     ]
    },
    {
     "name": "stderr",
     "output_type": "stream",
     "text": [
      "[2023-01-18 08:49:59] Defining geo-location parameters\n",
      "\n"
     ]
    },
    {
     "name": "stderr",
     "output_type": "stream",
     "text": [
      "[2023-01-18 08:49:59] Defining time selection parameters\n",
      "\n"
     ]
    },
    {
     "name": "stderr",
     "output_type": "stream",
     "text": [
      "[2023-01-18 08:49:59] Retrieving data subset ...\n",
      "\n"
     ]
    },
    {
     "name": "stderr",
     "output_type": "stream",
     "text": [
      "[2023-01-18 08:49:59] Done\n",
      "\n"
     ]
    },
    {
     "name": "stderr",
     "output_type": "stream",
     "text": [
      "[2023-01-18 08:50:03] Defining geo-location parameters\n",
      "\n"
     ]
    },
    {
     "name": "stderr",
     "output_type": "stream",
     "text": [
      "[2023-01-18 08:50:03] Defining time selection parameters\n",
      "\n"
     ]
    },
    {
     "name": "stderr",
     "output_type": "stream",
     "text": [
      "[2023-01-18 08:50:03] Retrieving data subset ...\n",
      "\n"
     ]
    },
    {
     "name": "stderr",
     "output_type": "stream",
     "text": [
      "[2023-01-18 08:50:03] Done\n",
      "\n"
     ]
    },
    {
     "name": "stderr",
     "output_type": "stream",
     "text": [
      "[2023-01-18 08:50:07] Defining geo-location parameters\n",
      "\n"
     ]
    },
    {
     "name": "stderr",
     "output_type": "stream",
     "text": [
      "[2023-01-18 08:50:07] Defining time selection parameters\n",
      "\n"
     ]
    },
    {
     "name": "stderr",
     "output_type": "stream",
     "text": [
      "[2023-01-18 08:50:07] Retrieving data subset ...\n",
      "\n"
     ]
    },
    {
     "name": "stderr",
     "output_type": "stream",
     "text": [
      "[2023-01-18 08:50:07] Done\n",
      "\n"
     ]
    },
    {
     "name": "stderr",
     "output_type": "stream",
     "text": [
      "[2023-01-18 08:50:11] Defining geo-location parameters\n",
      "\n"
     ]
    },
    {
     "name": "stderr",
     "output_type": "stream",
     "text": [
      "[2023-01-18 08:50:11] Defining time selection parameters\n",
      "\n"
     ]
    },
    {
     "name": "stderr",
     "output_type": "stream",
     "text": [
      "[2023-01-18 08:50:11] Retrieving data subset ...\n",
      "\n"
     ]
    },
    {
     "name": "stderr",
     "output_type": "stream",
     "text": [
      "[2023-01-18 08:50:12] Done\n",
      "\n"
     ]
    },
    {
     "name": "stderr",
     "output_type": "stream",
     "text": [
      "[2023-01-18 08:50:16] Defining geo-location parameters\n",
      "\n"
     ]
    },
    {
     "name": "stderr",
     "output_type": "stream",
     "text": [
      "[2023-01-18 08:50:16] Defining time selection parameters\n",
      "\n"
     ]
    },
    {
     "name": "stderr",
     "output_type": "stream",
     "text": [
      "[2023-01-18 08:50:16] Retrieving data subset ...\n",
      "\n"
     ]
    },
    {
     "name": "stderr",
     "output_type": "stream",
     "text": [
      "[2023-01-18 08:50:16] Done\n",
      "\n"
     ]
    }
   ],
   "source": [
    "file.obs <- \"auxiliary-material/W5E5_IP_tas-tasmin-tasmax_1986-2005_JJA.nc\"\n",
    "file.hist <- \"auxiliary-material/CMIP5_EC-EARTH_r12i1p1_historical_IP_tas-tasmin-tasmax_1986-2005_JJA.nc\"\n",
    "file.rcp <- \"auxiliary-material/CMIP5_EC-EARTH_r12i1p1_rcp85_IP_tas-tasmin-tasmax_2041-2060_JJA.nc\"\n",
    "\n",
    "# Loading mean temperature\n",
    "y.tas <- loadGridData(file.obs, var = \"tas\")\n",
    "x.tas <- loadGridData(file.hist, var = \"tas\")\n",
    "newdata.tas <- loadGridData(file.rcp, var = \"tas\")\n",
    "\n",
    "# Loading minimum temperature\n",
    "y.tasmin <- loadGridData(file.obs, var = \"tasmin\")\n",
    "x.tasmin <- loadGridData(file.hist, var = \"tasmin\")\n",
    "newdata.tasmin <- loadGridData(file.rcp, var = \"tasmin\")\n",
    "\n",
    "# Loading maximum temperature\n",
    "y.tasmax <- loadGridData(file.obs, var = \"tasmax\")\n",
    "x.tasmax <- loadGridData(file.hist, var = \"tasmax\")\n",
    "newdata.tasmax <- loadGridData(file.rcp, var = \"tasmax\")"
   ]
  },
  {
   "cell_type": "code",
   "execution_count": 4,
   "metadata": {},
   "outputs": [
    {
     "name": "stderr",
     "output_type": "stream",
     "text": [
      "[2023-01-18 08:50:16] Calculating nearest neighbors...\n",
      "\n"
     ]
    },
    {
     "name": "stderr",
     "output_type": "stream",
     "text": [
      "[2023-01-18 08:50:16] Performing nearest interpolation... may take a while\n",
      "\n"
     ]
    },
    {
     "name": "stderr",
     "output_type": "stream",
     "text": [
      "[2023-01-18 08:50:16] Done\n",
      "\n"
     ]
    },
    {
     "name": "stderr",
     "output_type": "stream",
     "text": [
      "[2023-01-18 08:50:16] Calculating nearest neighbors...\n",
      "\n"
     ]
    },
    {
     "name": "stderr",
     "output_type": "stream",
     "text": [
      "[2023-01-18 08:50:16] Performing nearest interpolation... may take a while\n",
      "\n"
     ]
    },
    {
     "name": "stderr",
     "output_type": "stream",
     "text": [
      "[2023-01-18 08:50:16] Done\n",
      "\n"
     ]
    },
    {
     "name": "stderr",
     "output_type": "stream",
     "text": [
      "[2023-01-18 08:50:16] Calculating nearest neighbors...\n",
      "\n"
     ]
    },
    {
     "name": "stderr",
     "output_type": "stream",
     "text": [
      "[2023-01-18 08:50:16] Performing nearest interpolation... may take a while\n",
      "\n"
     ]
    },
    {
     "name": "stderr",
     "output_type": "stream",
     "text": [
      "[2023-01-18 08:50:16] Done\n",
      "\n"
     ]
    }
   ],
   "source": [
    "hist.tas <- interpGrid(x.tas, new.coordinates = getGrid(y.tas), method = \"nearest\")\n",
    "hist.tasmin <- interpGrid(x.tasmin, new.coordinates = getGrid(y.tasmin), method = \"nearest\")\n",
    "hist.tasmax <- interpGrid(x.tasmax, new.coordinates = getGrid(y.tasmax), method = \"nearest\")"
   ]
  },
  {
   "cell_type": "code",
   "execution_count": 5,
   "metadata": {},
   "outputs": [
    {
     "name": "stderr",
     "output_type": "stream",
     "text": [
      "[2023-01-18 08:50:16] - Computing climatology...\n",
      "\n"
     ]
    },
    {
     "name": "stderr",
     "output_type": "stream",
     "text": [
      "[2023-01-18 08:50:16] - Done.\n",
      "\n"
     ]
    },
    {
     "name": "stderr",
     "output_type": "stream",
     "text": [
      "[2023-01-18 08:50:16] - Computing climatology...\n",
      "\n"
     ]
    },
    {
     "name": "stderr",
     "output_type": "stream",
     "text": [
      "[2023-01-18 08:50:16] - Done.\n",
      "\n"
     ]
    },
    {
     "name": "stderr",
     "output_type": "stream",
     "text": [
      "[2023-01-18 08:50:16] - Computing climatology...\n",
      "\n"
     ]
    },
    {
     "name": "stderr",
     "output_type": "stream",
     "text": [
      "[2023-01-18 08:50:16] - Done.\n",
      "\n"
     ]
    },
    {
     "name": "stderr",
     "output_type": "stream",
     "text": [
      "[2023-01-18 08:50:16] - Computing climatology...\n",
      "\n"
     ]
    },
    {
     "name": "stderr",
     "output_type": "stream",
     "text": [
      "[2023-01-18 08:50:16] - Done.\n",
      "\n"
     ]
    },
    {
     "name": "stderr",
     "output_type": "stream",
     "text": [
      "[2023-01-18 08:50:16] - Computing climatology...\n",
      "\n"
     ]
    },
    {
     "name": "stderr",
     "output_type": "stream",
     "text": [
      "[2023-01-18 08:50:16] - Done.\n",
      "\n"
     ]
    },
    {
     "name": "stderr",
     "output_type": "stream",
     "text": [
      "[2023-01-18 08:50:16] - Computing climatology...\n",
      "\n"
     ]
    },
    {
     "name": "stderr",
     "output_type": "stream",
     "text": [
      "[2023-01-18 08:50:16] - Done.\n",
      "\n"
     ]
    }
   ],
   "source": [
    "bias.tas <- gridArithmetics(climatology(hist.tas), climatology(y.tas), operator = \"-\")\n",
    "bias.tasmax <- gridArithmetics(climatology(hist.tasmax), climatology(y.tasmax), operator = \"-\")\n",
    "bias.tasmin <- gridArithmetics(climatology(hist.tasmin), climatology(y.tasmin), operator = \"-\")"
   ]
  },
  {
   "cell_type": "code",
   "execution_count": 6,
   "metadata": {},
   "outputs": [
    {
     "data": {
      "image/png": "[encoded data removed]",
      "text/plain": [
       "plot without title"
      ]
     },
     "metadata": {
      "image/png": {
       "height": 420,
       "width": 420
      }
     },
     "output_type": "display_data"
    }
   ],
   "source": [
    "spatialPlot(suppressMessages(makeMultiGrid(bias.tas, bias.tasmax, bias.tasmin, skip.temporal.check = TRUE)), \n",
    "            backdrop.theme = \"coastline\", \n",
    "            names.attr = c(\"Mean temperature\", \"Maximum Temperature\", \"Minimum Temperature\"),\n",
    "            main = \"EC-EARTH biases (degC)\", layout = c(1, 3), as.table = TRUE, \n",
    "            set.min = -6, set.max = 6, at = seq(-6, 6, 12/20), rev.colors = TRUE)"
   ]
  },
  {
   "cell_type": "code",
   "execution_count": 7,
   "metadata": {},
   "outputs": [
    {
     "name": "stderr",
     "output_type": "stream",
     "text": [
      "[2023-01-18 08:50:16] Calculating TXth ...\n",
      "\n"
     ]
    },
    {
     "name": "stderr",
     "output_type": "stream",
     "text": [
      "[2023-01-18 08:50:16] Done\n",
      "\n"
     ]
    },
    {
     "name": "stderr",
     "output_type": "stream",
     "text": [
      "[2023-01-18 08:50:17] Calculating TXth ...\n",
      "\n"
     ]
    },
    {
     "name": "stderr",
     "output_type": "stream",
     "text": [
      "[2023-01-18 08:50:17] Done\n",
      "\n"
     ]
    },
    {
     "name": "stderr",
     "output_type": "stream",
     "text": [
      "[2023-01-18 08:50:17] - Computing climatology...\n",
      "\n"
     ]
    },
    {
     "name": "stderr",
     "output_type": "stream",
     "text": [
      "[2023-01-18 08:50:17] - Done.\n",
      "\n"
     ]
    },
    {
     "name": "stderr",
     "output_type": "stream",
     "text": [
      "[2023-01-18 08:50:17] - Computing climatology...\n",
      "\n"
     ]
    },
    {
     "name": "stderr",
     "output_type": "stream",
     "text": [
      "[2023-01-18 08:50:17] - Done.\n",
      "\n"
     ]
    }
   ],
   "source": [
    "# Observed TX35, year by year\n",
    "index.obs <- redim(indexGrid(tx = y.tasmax, index.code = \"TXth\", th = 35, time.resolution = \"year\"), \n",
    "                   drop = TRUE)\n",
    "# Simulated TX35, year by year\n",
    "index.raw <- redim(indexGrid(tx = hist.tasmax, index.code = \"TXth\", th = 35, time.resolution = \"year\"), \n",
    "                   drop = TRUE)\n",
    "\n",
    "tx35.obs <- climatology(index.obs)  # Mean value\n",
    "tx35.raw <- climatology(index.raw)  # Mean value\n",
    "bias.tx35 <- gridArithmetics(tx35.raw, tx35.obs, operator = \"-\")  # Bias"
   ]
  },
  {
   "cell_type": "code",
   "execution_count": 8,
   "metadata": {},
   "outputs": [
    {
     "data": {
      "image/png": "[encoded data removed]",
      "text/plain": [
       "plot without title"
      ]
     },
     "metadata": {
      "image/png": {
       "height": 420,
       "width": 420
      }
     },
     "output_type": "display_data"
    }
   ],
   "source": [
    "spatialPlot(bias.tx35, backdrop.theme = \"coastline\", main = \"EC-EARTH bias in TX35 (days/year)\", \n",
    "            set.min = -30, set.max = 30, \n",
    "            at = seq(-30, 30, 60/20),\n",
    "            rev.colors = TRUE)"
   ]
  },
  {
   "cell_type": "code",
   "execution_count": 9,
   "metadata": {
    "button": false,
    "new_sheet": false,
    "run_control": {
     "read_only": false
    }
   },
   "outputs": [],
   "source": [
    "# Range\n",
    "y.range <- gridArithmetics(y.tasmax, y.tasmin, operator = \"-\")\n",
    "x.range <- gridArithmetics(x.tasmax, x.tasmin, operator = \"-\")\n",
    "newdata.range <- gridArithmetics(newdata.tasmax, newdata.tasmin, operator = \"-\")\n",
    "\n",
    "# Skewness\n",
    "y.skew <- gridArithmetics(gridArithmetics(y.tas, y.tasmin, operator = \"-\"), y.range, operator = \"/\")\n",
    "x.skew <- gridArithmetics(gridArithmetics(x.tas,x.tasmin, operator = \"-\"), x.range, operator = \"/\")\n",
    "newdata.skew <- gridArithmetics(gridArithmetics(newdata.tas, newdata.tasmin, operator = \"-\"), \n",
    "                                newdata.range, operator = \"/\")"
   ]
  },
  {
   "cell_type": "code",
   "execution_count": 10,
   "metadata": {
    "button": false,
    "new_sheet": false,
    "run_control": {
     "read_only": false
    }
   },
   "outputs": [
    {
     "name": "stderr",
     "output_type": "stream",
     "text": [
      "[2023-01-18 08:50:17] Trying to determine the time zone...\n",
      "\n"
     ]
    },
    {
     "name": "stderr",
     "output_type": "stream",
     "text": [
      "[2023-01-18 08:50:17] Time zone identified and set to GMT\n",
      "See 'setGridDates.asPOSIXlt' to change the time zone\n",
      "\n"
     ]
    },
    {
     "name": "stderr",
     "output_type": "stream",
     "text": [
      "[2023-01-18 08:50:17] Trying to determine the time zone...\n",
      "\n"
     ]
    },
    {
     "name": "stderr",
     "output_type": "stream",
     "text": [
      "[2023-01-18 08:50:17] Time zone identified and set to GMT\n",
      "See 'setGridDates.asPOSIXlt' to change the time zone\n",
      "\n"
     ]
    },
    {
     "name": "stderr",
     "output_type": "stream",
     "text": [
      "[2023-01-18 08:50:17] Trying to determine the time zone...\n",
      "\n"
     ]
    },
    {
     "name": "stderr",
     "output_type": "stream",
     "text": [
      "[2023-01-18 08:50:17] Time zone identified and set to GMT\n",
      "See 'setGridDates.asPOSIXlt' to change the time zone\n",
      "\n"
     ]
    },
    {
     "name": "stderr",
     "output_type": "stream",
     "text": [
      "[2023-01-18 08:50:18] Argument precipitation is set as FALSE, please ensure that this matches your data.\n",
      "\n"
     ]
    },
    {
     "name": "stderr",
     "output_type": "stream",
     "text": [
      "[2023-01-18 08:50:18] Number of windows considered: 1...\n",
      "\n"
     ]
    },
    {
     "name": "stderr",
     "output_type": "stream",
     "text": [
      "[2023-01-18 08:50:18] Bias-correcting 1 members separately...\n",
      "\n"
     ]
    },
    {
     "name": "stderr",
     "output_type": "stream",
     "text": [
      "[2023-01-18 08:50:30] Done.\n",
      "\n"
     ]
    },
    {
     "name": "stderr",
     "output_type": "stream",
     "text": [
      "[2023-01-18 08:50:30] Trying to determine the time zone...\n",
      "\n"
     ]
    },
    {
     "name": "stderr",
     "output_type": "stream",
     "text": [
      "[2023-01-18 08:50:30] Time zone identified and set to GMT\n",
      "See 'setGridDates.asPOSIXlt' to change the time zone\n",
      "\n"
     ]
    },
    {
     "name": "stderr",
     "output_type": "stream",
     "text": [
      "[2023-01-18 08:50:31] Trying to determine the time zone...\n",
      "\n"
     ]
    },
    {
     "name": "stderr",
     "output_type": "stream",
     "text": [
      "[2023-01-18 08:50:31] Time zone identified and set to GMT\n",
      "See 'setGridDates.asPOSIXlt' to change the time zone\n",
      "\n"
     ]
    },
    {
     "name": "stderr",
     "output_type": "stream",
     "text": [
      "[2023-01-18 08:50:31] Trying to determine the time zone...\n",
      "\n"
     ]
    },
    {
     "name": "stderr",
     "output_type": "stream",
     "text": [
      "[2023-01-18 08:50:31] Time zone identified and set to GMT\n",
      "See 'setGridDates.asPOSIXlt' to change the time zone\n",
      "\n"
     ]
    },
    {
     "name": "stderr",
     "output_type": "stream",
     "text": [
      "[2023-01-18 08:50:31] Argument precipitation is set as FALSE, please ensure that this matches your data.\n",
      "\n"
     ]
    },
    {
     "name": "stderr",
     "output_type": "stream",
     "text": [
      "[2023-01-18 08:50:31] Number of windows considered: 1...\n",
      "\n"
     ]
    },
    {
     "name": "stderr",
     "output_type": "stream",
     "text": [
      "[2023-01-18 08:50:31] Bias-correcting 1 members separately...\n",
      "\n"
     ]
    },
    {
     "name": "stderr",
     "output_type": "stream",
     "text": [
      "[2023-01-18 08:50:39] Done.\n",
      "\n"
     ]
    }
   ],
   "source": [
    "# List of arguments that have to be passed to the \"biasCorrection\" function when using the ISIMIP3 method\n",
    "isimip3.args = list(lower_bound = NULL,lower_threshold = NULL, upper_bound = NULL, \n",
    "                    upper_threshold = NULL,  randomization_seed =  NULL, \n",
    "                    detrend = array(data = TRUE, dim = 1), rotation_matrices = NULL, \n",
    "                    n_quantiles = 50, distribution = \"normal\", \n",
    "                    trend_preservation = array(data = \"additive\", dim = 1), \n",
    "                    adjust_p_values = array(data = FALSE, dim = 1), if_all_invalid_use = NULL, \n",
    "                    invalid_value_warnings = FALSE)\n",
    "\n",
    "# Adjusting historical simulations\n",
    "bc.tas.hist <- biasCorrection(y = y.tas, x = x.tas, newdata = x.tas, \"precipitation\" = FALSE, \n",
    "                         method = \"isimip3\", isimip3.args = isimip3.args)\n",
    "# Adjusting future simulations\n",
    "bc.tas <- biasCorrection(y = y.tas, x = x.tas, newdata = newdata.tas, \"precipitation\" = FALSE, \n",
    "                         method = \"isimip3\", isimip3.args = isimip3.args)"
   ]
  },
  {
   "cell_type": "code",
   "execution_count": 11,
   "metadata": {
    "button": false,
    "new_sheet": false,
    "run_control": {
     "read_only": false
    }
   },
   "outputs": [
    {
     "name": "stderr",
     "output_type": "stream",
     "text": [
      "[2023-01-18 08:50:39] Trying to determine the time zone...\n",
      "\n"
     ]
    },
    {
     "name": "stderr",
     "output_type": "stream",
     "text": [
      "[2023-01-18 08:50:39] Time zone identified and set to GMT\n",
      "See 'setGridDates.asPOSIXlt' to change the time zone\n",
      "\n"
     ]
    },
    {
     "name": "stderr",
     "output_type": "stream",
     "text": [
      "[2023-01-18 08:50:39] Trying to determine the time zone...\n",
      "\n"
     ]
    },
    {
     "name": "stderr",
     "output_type": "stream",
     "text": [
      "[2023-01-18 08:50:39] Time zone identified and set to GMT\n",
      "See 'setGridDates.asPOSIXlt' to change the time zone\n",
      "\n"
     ]
    },
    {
     "name": "stderr",
     "output_type": "stream",
     "text": [
      "[2023-01-18 08:50:39] Trying to determine the time zone...\n",
      "\n"
     ]
    },
    {
     "name": "stderr",
     "output_type": "stream",
     "text": [
      "[2023-01-18 08:50:39] Time zone identified and set to GMT\n",
      "See 'setGridDates.asPOSIXlt' to change the time zone\n",
      "\n"
     ]
    },
    {
     "name": "stderr",
     "output_type": "stream",
     "text": [
      "[2023-01-18 08:50:40] Argument precipitation is set as FALSE, please ensure that this matches your data.\n",
      "\n"
     ]
    },
    {
     "name": "stderr",
     "output_type": "stream",
     "text": [
      "[2023-01-18 08:50:40] Number of windows considered: 1...\n",
      "\n"
     ]
    },
    {
     "name": "stderr",
     "output_type": "stream",
     "text": [
      "[2023-01-18 08:50:40] Bias-correcting 1 members separately...\n",
      "\n"
     ]
    },
    {
     "name": "stderr",
     "output_type": "stream",
     "text": [
      "[2023-01-18 08:50:47] Done.\n",
      "\n"
     ]
    },
    {
     "name": "stderr",
     "output_type": "stream",
     "text": [
      "[2023-01-18 08:50:47] Trying to determine the time zone...\n",
      "\n"
     ]
    },
    {
     "name": "stderr",
     "output_type": "stream",
     "text": [
      "[2023-01-18 08:50:47] Time zone identified and set to GMT\n",
      "See 'setGridDates.asPOSIXlt' to change the time zone\n",
      "\n"
     ]
    },
    {
     "name": "stderr",
     "output_type": "stream",
     "text": [
      "[2023-01-18 08:50:47] Trying to determine the time zone...\n",
      "\n"
     ]
    },
    {
     "name": "stderr",
     "output_type": "stream",
     "text": [
      "[2023-01-18 08:50:47] Time zone identified and set to GMT\n",
      "See 'setGridDates.asPOSIXlt' to change the time zone\n",
      "\n"
     ]
    },
    {
     "name": "stderr",
     "output_type": "stream",
     "text": [
      "[2023-01-18 08:50:47] Trying to determine the time zone...\n",
      "\n"
     ]
    },
    {
     "name": "stderr",
     "output_type": "stream",
     "text": [
      "[2023-01-18 08:50:47] Time zone identified and set to GMT\n",
      "See 'setGridDates.asPOSIXlt' to change the time zone\n",
      "\n"
     ]
    },
    {
     "name": "stderr",
     "output_type": "stream",
     "text": [
      "[2023-01-18 08:50:48] Argument precipitation is set as FALSE, please ensure that this matches your data.\n",
      "\n"
     ]
    },
    {
     "name": "stderr",
     "output_type": "stream",
     "text": [
      "[2023-01-18 08:50:48] Number of windows considered: 1...\n",
      "\n"
     ]
    },
    {
     "name": "stderr",
     "output_type": "stream",
     "text": [
      "[2023-01-18 08:50:48] Bias-correcting 1 members separately...\n",
      "\n"
     ]
    },
    {
     "name": "stderr",
     "output_type": "stream",
     "text": [
      "[2023-01-18 08:50:55] Done.\n",
      "\n"
     ]
    }
   ],
   "source": [
    "# List of arguments that have to be passed to the \"biasCorrection\" function when using the ISIMIP3 method\n",
    "isimip3.range.args = list(lower_bound = 0, lower_threshold = 0.01, upper_bound = NULL, \n",
    "                            upper_threshold = NULL, randomization_seed = NULL, \n",
    "                            detrend = array(data = FALSE, dim = 1), rotation_matrices =  NULL, \n",
    "                            n_quantiles = 50, distribution = \"rice\", \n",
    "                            trend_preservation = array(data = \"mixed\", dim = 1),\n",
    "                            adjust_p_values = array(data = FALSE, dim = 1), if_all_invalid_use = NULL, \n",
    "                            invalid_value_warnings = FALSE)\n",
    "\n",
    "# Adjusting historical simulations\n",
    "bc.range.hist <- biasCorrection(y = y.range, x = x.range, newdata = x.range, \"precipitation\" = FALSE, \n",
    "                                method = \"isimip3\", isimip3.args = isimip3.range.args)\n",
    "# Adjusting future simulations                           \n",
    "bc.range <- biasCorrection(y = y.range, x = x.range, newdata = newdata.range, \"precipitation\" = FALSE, \n",
    "                           method = \"isimip3\", isimip3.args = isimip3.range.args)"
   ]
  },
  {
   "cell_type": "code",
   "execution_count": 12,
   "metadata": {},
   "outputs": [
    {
     "name": "stderr",
     "output_type": "stream",
     "text": [
      "[2023-01-18 08:50:55] Trying to determine the time zone...\n",
      "\n"
     ]
    },
    {
     "name": "stderr",
     "output_type": "stream",
     "text": [
      "[2023-01-18 08:50:55] Time zone identified and set to GMT\n",
      "See 'setGridDates.asPOSIXlt' to change the time zone\n",
      "\n"
     ]
    },
    {
     "name": "stderr",
     "output_type": "stream",
     "text": [
      "[2023-01-18 08:50:55] Trying to determine the time zone...\n",
      "\n"
     ]
    },
    {
     "name": "stderr",
     "output_type": "stream",
     "text": [
      "[2023-01-18 08:50:55] Time zone identified and set to GMT\n",
      "See 'setGridDates.asPOSIXlt' to change the time zone\n",
      "\n"
     ]
    },
    {
     "name": "stderr",
     "output_type": "stream",
     "text": [
      "[2023-01-18 08:50:55] Trying to determine the time zone...\n",
      "\n"
     ]
    },
    {
     "name": "stderr",
     "output_type": "stream",
     "text": [
      "[2023-01-18 08:50:55] Time zone identified and set to GMT\n",
      "See 'setGridDates.asPOSIXlt' to change the time zone\n",
      "\n"
     ]
    },
    {
     "name": "stderr",
     "output_type": "stream",
     "text": [
      "[2023-01-18 08:50:56] Argument precipitation is set as FALSE, please ensure that this matches your data.\n",
      "\n"
     ]
    },
    {
     "name": "stderr",
     "output_type": "stream",
     "text": [
      "[2023-01-18 08:50:56] Number of windows considered: 1...\n",
      "\n"
     ]
    },
    {
     "name": "stderr",
     "output_type": "stream",
     "text": [
      "[2023-01-18 08:50:56] Bias-correcting 1 members separately...\n",
      "\n"
     ]
    },
    {
     "name": "stderr",
     "output_type": "stream",
     "text": [
      "[2023-01-18 08:51:03] Done.\n",
      "\n"
     ]
    },
    {
     "name": "stderr",
     "output_type": "stream",
     "text": [
      "[2023-01-18 08:51:03] Trying to determine the time zone...\n",
      "\n"
     ]
    },
    {
     "name": "stderr",
     "output_type": "stream",
     "text": [
      "[2023-01-18 08:51:03] Time zone identified and set to GMT\n",
      "See 'setGridDates.asPOSIXlt' to change the time zone\n",
      "\n"
     ]
    },
    {
     "name": "stderr",
     "output_type": "stream",
     "text": [
      "[2023-01-18 08:51:03] Trying to determine the time zone...\n",
      "\n"
     ]
    },
    {
     "name": "stderr",
     "output_type": "stream",
     "text": [
      "[2023-01-18 08:51:03] Time zone identified and set to GMT\n",
      "See 'setGridDates.asPOSIXlt' to change the time zone\n",
      "\n"
     ]
    },
    {
     "name": "stderr",
     "output_type": "stream",
     "text": [
      "[2023-01-18 08:51:03] Trying to determine the time zone...\n",
      "\n"
     ]
    },
    {
     "name": "stderr",
     "output_type": "stream",
     "text": [
      "[2023-01-18 08:51:03] Time zone identified and set to GMT\n",
      "See 'setGridDates.asPOSIXlt' to change the time zone\n",
      "\n"
     ]
    },
    {
     "name": "stderr",
     "output_type": "stream",
     "text": [
      "[2023-01-18 08:51:03] Argument precipitation is set as FALSE, please ensure that this matches your data.\n",
      "\n"
     ]
    },
    {
     "name": "stderr",
     "output_type": "stream",
     "text": [
      "[2023-01-18 08:51:04] Number of windows considered: 1...\n",
      "\n"
     ]
    },
    {
     "name": "stderr",
     "output_type": "stream",
     "text": [
      "[2023-01-18 08:51:04] Bias-correcting 1 members separately...\n",
      "\n"
     ]
    },
    {
     "name": "stderr",
     "output_type": "stream",
     "text": [
      "[2023-01-18 08:51:12] Done.\n",
      "\n"
     ]
    }
   ],
   "source": [
    "# List of arguments that have to be passed to the \"biasCorrection\" function when using the ISIMIP3 method\n",
    "isimip3.skew.args  =  list(lower_bound =  c(0), lower_threshold =  c(0.0001), upper_bound =  c(1), \n",
    "                           upper_threshold =  c(0.9999), randomization_seed =  NULL,\n",
    "                           detrend =  array(data  =  FALSE, dim = 1), rotation_matrices =  c(NULL), \n",
    "                           n_quantiles = 50, distribution =  c(\"beta\"), \n",
    "                           trend_preservation = array(data = \"bounded\", dim = 1), \n",
    "                           adjust_p_values = array(data  =  FALSE, dim = 1), if_all_invalid_use  =  c(NULL),\n",
    "                           invalid_value_warnings  =  FALSE)\n",
    "\n",
    "# Adjusting historical simulations\n",
    "bc.skew.hist <- biasCorrection(y = y.skew, x = x.skew, newdata = x.skew, \"precipitation\" = FALSE, \n",
    "                          method = \"isimip3\", isimip3.args = isimip3.skew.args)\n",
    "# Adjusting future simulations\n",
    "bc.skew <- biasCorrection(y = y.skew, x = x.skew, newdata = newdata.skew, \"precipitation\" = FALSE, \n",
    "                          method = \"isimip3\", isimip3.args = isimip3.skew.args)"
   ]
  },
  {
   "cell_type": "code",
   "execution_count": 13,
   "metadata": {},
   "outputs": [],
   "source": [
    "# Bias-adjusted historical temperatures\n",
    "bc.tasmin.hist <- gridArithmetics(bc.tas.hist, gridArithmetics(bc.range.hist, bc.skew.hist, operator = \"*\"), \n",
    "                                  operator = \"-\")\n",
    "bc.tasmax.hist <- gridArithmetics(bc.tasmin.hist, bc.range.hist, operator = \"+\")\n",
    "\n",
    "# Bias-adjusted future temperatures\n",
    "bc.tasmin <- gridArithmetics(bc.tas, gridArithmetics(bc.range, bc.skew, operator = \"*\"), \n",
    "                             operator = \"-\")\n",
    "bc.tasmax <- gridArithmetics(bc.tasmin, bc.range, operator = \"+\")"
   ]
  },
  {
   "cell_type": "code",
   "execution_count": 14,
   "metadata": {
    "button": false,
    "new_sheet": false,
    "run_control": {
     "read_only": false
    }
   },
   "outputs": [
    {
     "name": "stderr",
     "output_type": "stream",
     "text": [
      "[2023-01-18 08:51:12] Calculating TXth ...\n",
      "\n"
     ]
    },
    {
     "name": "stderr",
     "output_type": "stream",
     "text": [
      "[2023-01-18 08:51:12] Done\n",
      "\n"
     ]
    },
    {
     "name": "stderr",
     "output_type": "stream",
     "text": [
      "[2023-01-18 08:51:12] - Computing climatology...\n",
      "\n"
     ]
    },
    {
     "name": "stderr",
     "output_type": "stream",
     "text": [
      "[2023-01-18 08:51:12] - Done.\n",
      "\n"
     ]
    },
    {
     "name": "stderr",
     "output_type": "stream",
     "text": [
      "[2023-01-18 08:51:12] Calculating TXth ...\n",
      "\n"
     ]
    },
    {
     "name": "stderr",
     "output_type": "stream",
     "text": [
      "[2023-01-18 08:51:12] Done\n",
      "\n"
     ]
    },
    {
     "name": "stderr",
     "output_type": "stream",
     "text": [
      "[2023-01-18 08:51:12] - Computing climatology...\n",
      "\n"
     ]
    },
    {
     "name": "stderr",
     "output_type": "stream",
     "text": [
      "[2023-01-18 08:51:12] - Done.\n",
      "\n"
     ]
    }
   ],
   "source": [
    "# Bias-adjusted TX35 for the historical period, year by year\n",
    "index.hist <- redim(indexGrid(tx = bc.tasmax.hist, index.code = \"TXth\", th = 35, \n",
    "                              time.resolution = \"year\"), drop = TRUE)\n",
    "tx35.hist <- climatology(index.hist)  # Mean value (number of days/year)\n",
    "\n",
    "# Bias-adjusted TX35 for the future period of interest, year by year\n",
    "index.rcp <- redim(indexGrid(tx = bc.tasmax, index.code = \"TXth\", th = 35, \n",
    "                             time.resolution = \"year\"), drop = TRUE)\n",
    "tx35.rcp <- climatology(index.rcp) # Mean value (number of days/year)"
   ]
  },
  {
   "cell_type": "code",
   "execution_count": 15,
   "metadata": {},
   "outputs": [
    {
     "data": {
      "image/png": "[encoded data removed]",
      "text/plain": [
       "plot without title"
      ]
     },
     "metadata": {
      "image/png": {
       "height": 420,
       "width": 420
      }
     },
     "output_type": "display_data"
    }
   ],
   "source": [
    "spatialPlot(makeMultiGrid(tx35.hist, tx35.rcp, skip.temporal.check = TRUE), backdrop.theme = \"coastline\", \n",
    "            color.them = \"Reds\", names.attr = c(\"Historical (1986-2005)\",\"Projected (2041-2060, RCP8.5)\"),\n",
    "            main = \"Bias-adjusted TX35 (days/year)\", as.table = TRUE, set.min = 0, set.max = 60, at = seq(0,60,5))"
   ]
  },
  {
   "cell_type": "code",
   "execution_count": 16,
   "metadata": {
    "button": false,
    "new_sheet": false,
    "run_control": {
     "read_only": false
    },
    "tags": [
     "hide-output"
    ]
   },
   "outputs": [
    {
     "data": {
      "text/plain": [
       "R version 3.6.3 (2020-02-29)\n",
       "Platform: x86_64-conda-linux-gnu (64-bit)\n",
       "Running under: Fedora Linux 37 (Workstation Edition)\n",
       "\n",
       "Matrix products: default\n",
       "BLAS/LAPACK: /home/phanaur/mambaforge/envs/tfg/lib/libopenblasp-r0.3.21.so\n",
       "\n",
       "locale:\n",
       " [1] LC_CTYPE=es_ES.UTF-8          LC_NUMERIC=C                 \n",
       " [3] LC_TIME=es_ES.UTF-8           LC_COLLATE=es_ES.UTF-8       \n",
       " [5] LC_MONETARY=es_ES.UTF-8       LC_MESSAGES=es_ES.UTF-8      \n",
       " [7] LC_PAPER=es_ES.UTF-8          LC_NAME=es_ES.UTF-8          \n",
       " [9] LC_ADDRESS=es_ES.UTF-8        LC_TELEPHONE=es_ES.UTF-8     \n",
       "[11] LC_MEASUREMENT=es_ES.UTF-8    LC_IDENTIFICATION=es_ES.UTF-8\n",
       "\n",
       "attached base packages:\n",
       "[1] stats     graphics  grDevices utils     datasets  methods   base     \n",
       "\n",
       "other attached packages:\n",
       " [1] rgdal_1.5-16            sp_1.4-5                visualizeR_1.6.1       \n",
       " [4] climate4R.indices_0.2.0 downscaleR_3.3.3        transformeR_2.1.3      \n",
       " [7] loadeR_1.7.1            climate4R.UDG_0.2.3     loadeR.java_1.1.1      \n",
       "[10] rJava_1.0-4            \n",
       "\n",
       "loaded via a namespace (and not attached):\n",
       " [1] CircStats_0.2-6         bitops_1.0-7            RColorBrewer_1.1-2     \n",
       " [4] rprojroot_2.0.2         evd_2.3-3               sticky_0.5.6.1         \n",
       " [7] repr_1.1.3              tools_3.6.3             padr_0.5.3             \n",
       "[10] utf8_1.2.1              R6_2.5.0                sm_2.2-5.6             \n",
       "[13] colorspace_2.0-1        withr_2.4.2             tidyselect_1.1.1       \n",
       "[16] gridExtra_2.3           compiler_3.6.3          glmnet_4.1-1           \n",
       "[19] scales_1.1.1            pbapply_1.4-3           dtw_1.22-3             \n",
       "[22] proxy_0.4-25            rappdirs_0.3.3          pbdZMQ_0.3-5           \n",
       "[25] digest_0.6.27           vioplot_0.3.6           base64enc_0.1-3        \n",
       "[28] jpeg_0.1-8.1            pkgconfig_2.0.3         htmltools_0.5.1.1      \n",
       "[31] akima_0.6-2.1           maps_3.3.0              rlang_0.4.11           \n",
       "[34] shape_1.4.6             mapplots_1.5.1          generics_0.1.0         \n",
       "[37] zoo_1.8-9               jsonlite_1.7.2          dplyr_1.0.6            \n",
       "[40] RCurl_1.98-1.3          magrittr_2.0.1          verification_1.42      \n",
       "[43] dotCall64_1.0-1         Matrix_1.3-3            Rcpp_1.0.6             \n",
       "[46] IRkernel_1.2            munsell_0.5.0           fansi_0.4.2            \n",
       "[49] abind_1.4-5             reticulate_1.27         viridis_0.6.1          \n",
       "[52] lifecycle_1.0.0         MASS_7.3-54             grid_3.6.3             \n",
       "[55] parallel_3.6.3          crayon_1.4.1            udunits2_0.13          \n",
       "[58] lattice_0.20-44         IRdisplay_1.0           convertR_0.2.0         \n",
       "[61] splines_3.6.3           pillar_1.6.1            tcltk_3.6.3            \n",
       "[64] uuid_0.1-4              boot_1.3-28             codetools_0.2-18       \n",
       "[67] glue_1.4.2              evaluate_0.14           latticeExtra_0.6-29    \n",
       "[70] kohonen_3.0.10          data.table_1.14.0       png_0.1-7              \n",
       "[73] vctrs_0.3.8             spam_2.6-0              foreach_1.5.1          \n",
       "[76] gtable_0.3.0            purrr_0.3.4             ggplot2_3.3.3          \n",
       "[79] RcppEigen_0.3.3.9.1     survival_3.2-11         viridisLite_0.4.0      \n",
       "[82] tibble_3.1.2            iterators_1.0.13        SpecsVerification_0.5-3\n",
       "[85] fields_12.3             deepnet_0.2             ellipsis_0.3.2         \n",
       "[88] easyVerification_0.4.4  here_1.0.1             "
      ]
     },
     "metadata": {},
     "output_type": "display_data"
    }
   ],
   "source": [
    "sessionInfo()"
   ]
  }
 ],
 "metadata": {
  "kernelspec": {
   "display_name": "R",
   "language": "python",
   "name": "ir"
  },
  "language_info": {
   "codemirror_mode": "r",
   "file_extension": ".r",
   "mimetype": "text/x-r-source",
   "name": "R",
   "pygments_lexer": "r",
   "version": "3.6.3"
  },
  "vscode": {
   "interpreter": {
    "hash": "7812f8d43a0b4df1faa1f5f834d677598d68a57a2a8dffe43567739a16087a4c"
   }
  }
 },
 "nbformat": 4,
 "nbformat_minor": 4
}